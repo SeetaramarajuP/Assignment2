{
  "cells": [
    {
      "metadata": {
        "ExecuteTime": {
          "end_time": "2023-05-17T09:23:40.192471Z",
          "start_time": "2023-05-17T09:23:39.999901Z"
        },
        "trusted": false
      },
      "id": "5dac9041",
      "cell_type": "code",
      "source": "import pandas as pd \nimport matplotlib.pyplot as plt\nimport seaborn as sns\n",
      "execution_count": 16,
      "outputs": []
    },
    {
      "metadata": {
        "ExecuteTime": {
          "end_time": "2023-05-17T09:23:53.845648Z",
          "start_time": "2023-05-17T09:23:53.794696Z"
        },
        "trusted": false
      },
      "id": "13a63a7d",
      "cell_type": "code",
      "source": "C_Name=pd.read_excel('Company Name.xlsx')",
      "execution_count": 17,
      "outputs": []
    },
    {
      "metadata": {
        "ExecuteTime": {
          "end_time": "2023-05-17T09:23:55.204981Z",
          "start_time": "2023-05-17T09:23:55.180983Z"
        },
        "trusted": false
      },
      "id": "6560fbd2",
      "cell_type": "code",
      "source": "C_Name",
      "execution_count": 18,
      "outputs": [
        {
          "data": {
            "text/html": "<div>\n<style scoped>\n    .dataframe tbody tr th:only-of-type {\n        vertical-align: middle;\n    }\n\n    .dataframe tbody tr th {\n        vertical-align: top;\n    }\n\n    .dataframe thead th {\n        text-align: right;\n    }\n</style>\n<table border=\"1\" class=\"dataframe\">\n  <thead>\n    <tr style=\"text-align: right;\">\n      <th></th>\n      <th>Name of company</th>\n      <th>Measure X</th>\n    </tr>\n  </thead>\n  <tbody>\n    <tr>\n      <th>0</th>\n      <td>Allied Signal</td>\n      <td>0.2423</td>\n    </tr>\n    <tr>\n      <th>1</th>\n      <td>Bankers Trust</td>\n      <td>0.2553</td>\n    </tr>\n    <tr>\n      <th>2</th>\n      <td>General Mills</td>\n      <td>0.2541</td>\n    </tr>\n    <tr>\n      <th>3</th>\n      <td>ITT Industries</td>\n      <td>0.2414</td>\n    </tr>\n    <tr>\n      <th>4</th>\n      <td>J.P.Morgan&amp; Co.</td>\n      <td>0.2962</td>\n    </tr>\n    <tr>\n      <th>5</th>\n      <td>Lehman Brothers</td>\n      <td>0.2825</td>\n    </tr>\n    <tr>\n      <th>6</th>\n      <td>Marriott</td>\n      <td>0.2581</td>\n    </tr>\n    <tr>\n      <th>7</th>\n      <td>MCI</td>\n      <td>0.2439</td>\n    </tr>\n    <tr>\n      <th>8</th>\n      <td>Merrill Lynch</td>\n      <td>0.4026</td>\n    </tr>\n    <tr>\n      <th>9</th>\n      <td>Microsoft</td>\n      <td>0.3295</td>\n    </tr>\n    <tr>\n      <th>10</th>\n      <td>Morgan Stanley</td>\n      <td>0.9136</td>\n    </tr>\n    <tr>\n      <th>11</th>\n      <td>Sun Microsystems</td>\n      <td>0.2599</td>\n    </tr>\n    <tr>\n      <th>12</th>\n      <td>Travelers</td>\n      <td>0.3942</td>\n    </tr>\n    <tr>\n      <th>13</th>\n      <td>US Airways</td>\n      <td>0.2671</td>\n    </tr>\n    <tr>\n      <th>14</th>\n      <td>Warner-Lambert</td>\n      <td>0.3500</td>\n    </tr>\n  </tbody>\n</table>\n</div>",
            "text/plain": "     Name of company  Measure X\n0      Allied Signal     0.2423\n1      Bankers Trust     0.2553\n2      General Mills     0.2541\n3     ITT Industries     0.2414\n4    J.P.Morgan& Co.     0.2962\n5    Lehman Brothers     0.2825\n6           Marriott     0.2581\n7                MCI     0.2439\n8      Merrill Lynch     0.4026\n9          Microsoft     0.3295\n10    Morgan Stanley     0.9136\n11  Sun Microsystems     0.2599\n12         Travelers     0.3942\n13        US Airways     0.2671\n14    Warner-Lambert     0.3500"
          },
          "execution_count": 18,
          "metadata": {},
          "output_type": "execute_result"
        }
      ]
    },
    {
      "metadata": {
        "ExecuteTime": {
          "end_time": "2023-05-17T09:23:56.809631Z",
          "start_time": "2023-05-17T09:23:56.597678Z"
        },
        "trusted": false
      },
      "id": "a6275850",
      "cell_type": "code",
      "source": "plt.boxplot(C_Name['Measure X'])",
      "execution_count": 19,
      "outputs": [
        {
          "data": {
            "text/plain": "{'whiskers': [<matplotlib.lines.Line2D at 0x278e00f56a0>,\n  <matplotlib.lines.Line2D at 0x278e00f5970>],\n 'caps': [<matplotlib.lines.Line2D at 0x278e00f5c40>,\n  <matplotlib.lines.Line2D at 0x278e00f5f10>],\n 'boxes': [<matplotlib.lines.Line2D at 0x278e00f53d0>],\n 'medians': [<matplotlib.lines.Line2D at 0x278e0100220>],\n 'fliers': [<matplotlib.lines.Line2D at 0x278e01004f0>],\n 'means': []}"
          },
          "execution_count": 19,
          "metadata": {},
          "output_type": "execute_result"
        },
        {
          "data": {
            "image/png": "[encoded data removed]",
            "text/plain": "<Figure size 432x288 with 1 Axes>"
          },
          "metadata": {
            "needs_background": "light"
          },
          "output_type": "display_data"
        }
      ]
    },
    {
      "metadata": {
        "ExecuteTime": {
          "end_time": "2023-05-17T09:23:58.192916Z",
          "start_time": "2023-05-17T09:23:58.176917Z"
        },
        "trusted": false
      },
      "id": "7e72f0c0",
      "cell_type": "code",
      "source": "C_Name['Measure X'].mean()",
      "execution_count": 20,
      "outputs": [
        {
          "data": {
            "text/plain": "0.3327133333333333"
          },
          "execution_count": 20,
          "metadata": {},
          "output_type": "execute_result"
        }
      ]
    },
    {
      "metadata": {
        "ExecuteTime": {
          "end_time": "2023-05-17T09:24:00.075369Z",
          "start_time": "2023-05-17T09:24:00.059369Z"
        },
        "trusted": false
      },
      "id": "aa863961",
      "cell_type": "code",
      "source": "C_Name['Measure X'].var()",
      "execution_count": 21,
      "outputs": [
        {
          "data": {
            "text/plain": "0.028714661238095233"
          },
          "execution_count": 21,
          "metadata": {},
          "output_type": "execute_result"
        }
      ]
    },
    {
      "metadata": {
        "ExecuteTime": {
          "end_time": "2023-05-17T09:24:01.266875Z",
          "start_time": "2023-05-17T09:24:01.250880Z"
        },
        "trusted": false
      },
      "id": "2f68f13e",
      "cell_type": "code",
      "source": "C_Name['Measure X'].std()",
      "execution_count": 22,
      "outputs": [
        {
          "data": {
            "text/plain": "0.16945400921222029"
          },
          "execution_count": 22,
          "metadata": {},
          "output_type": "execute_result"
        }
      ]
    },
    {
      "metadata": {
        "ExecuteTime": {
          "end_time": "2023-05-17T09:24:02.658206Z",
          "start_time": "2023-05-17T09:24:02.634191Z"
        },
        "trusted": false
      },
      "id": "5490ca87",
      "cell_type": "code",
      "source": "from scipy import stats",
      "execution_count": 23,
      "outputs": []
    },
    {
      "metadata": {
        "ExecuteTime": {
          "end_time": "2023-05-17T09:24:03.797986Z",
          "start_time": "2023-05-17T09:24:03.773965Z"
        },
        "trusted": false
      },
      "id": "c878f6e2",
      "cell_type": "code",
      "source": "1-stats.norm.cdf(60,55,8)                       # SET 2 question 1",
      "execution_count": 24,
      "outputs": [
        {
          "data": {
            "text/plain": "0.26598552904870054"
          },
          "execution_count": 24,
          "metadata": {},
          "output_type": "execute_result"
        }
      ]
    },
    {
      "metadata": {
        "ExecuteTime": {
          "end_time": "2023-05-17T09:24:05.629674Z",
          "start_time": "2023-05-17T09:24:05.613676Z"
        },
        "trusted": false
      },
      "id": "f746409d",
      "cell_type": "code",
      "source": "stats.norm.cdf(44,38,6)-stats.norm.cdf(38,38,6)    #SET 2 Question 2",
      "execution_count": 25,
      "outputs": [
        {
          "data": {
            "text/plain": "0.3413447460685429"
          },
          "execution_count": 25,
          "metadata": {},
          "output_type": "execute_result"
        }
      ]
    },
    {
      "metadata": {
        "ExecuteTime": {
          "end_time": "2023-05-17T09:24:06.374406Z",
          "start_time": "2023-05-17T09:24:06.358402Z"
        },
        "trusted": false
      },
      "id": "ee765972",
      "cell_type": "code",
      "source": "1-stats.norm.cdf(44,38,6)",
      "execution_count": 26,
      "outputs": [
        {
          "data": {
            "text/plain": "0.15865525393145707"
          },
          "execution_count": 26,
          "metadata": {},
          "output_type": "execute_result"
        }
      ]
    },
    {
      "metadata": {
        "ExecuteTime": {
          "end_time": "2023-05-17T09:24:07.944402Z",
          "start_time": "2023-05-17T09:24:07.920404Z"
        },
        "trusted": false
      },
      "id": "fd61f799",
      "cell_type": "code",
      "source": "stats.norm.cdf(30,38,6)*400",
      "execution_count": 27,
      "outputs": [
        {
          "data": {
            "text/plain": "36.484487890347154"
          },
          "execution_count": 27,
          "metadata": {},
          "output_type": "execute_result"
        }
      ]
    },
    {
      "metadata": {
        "ExecuteTime": {
          "end_time": "2023-05-17T09:24:09.774781Z",
          "start_time": "2023-05-17T09:24:09.742784Z"
        },
        "trusted": false
      },
      "id": "88219c5e",
      "cell_type": "code",
      "source": "stats.norm.interval(0.99,100,20)           # SET 2 Question 4",
      "execution_count": 28,
      "outputs": [
        {
          "data": {
            "text/plain": "(48.48341392902199, 151.516586070978)"
          },
          "execution_count": 28,
          "metadata": {},
          "output_type": "execute_result"
        }
      ]
    },
    {
      "metadata": {
        "ExecuteTime": {
          "end_time": "2023-05-17T09:24:11.111068Z",
          "start_time": "2023-05-17T09:24:11.087053Z"
        },
        "trusted": false
      },
      "id": "3366306c",
      "cell_type": "code",
      "source": "stats.norm.interval(0.95,5,3)",
      "execution_count": 29,
      "outputs": [
        {
          "data": {
            "text/plain": "(-0.8798919536201621, 10.879891953620163)"
          },
          "execution_count": 29,
          "metadata": {},
          "output_type": "execute_result"
        }
      ]
    },
    {
      "metadata": {
        "ExecuteTime": {
          "end_time": "2023-05-17T09:24:11.865395Z",
          "start_time": "2023-05-17T09:24:11.841373Z"
        },
        "trusted": false
      },
      "id": "94b16bdd",
      "cell_type": "code",
      "source": "stats.norm.interval(0.95,7,4)",
      "execution_count": 30,
      "outputs": [
        {
          "data": {
            "text/plain": "(-0.8398559381602162, 14.839855938160216)"
          },
          "execution_count": 30,
          "metadata": {},
          "output_type": "execute_result"
        }
      ]
    },
    {
      "metadata": {
        "ExecuteTime": {
          "end_time": "2023-05-17T09:24:29.363243Z",
          "start_time": "2023-05-17T09:24:29.347244Z"
        },
        "trusted": false
      },
      "id": "f25f786a",
      "cell_type": "code",
      "source": "stats.norm.ppf(0.975)",
      "execution_count": 31,
      "outputs": [
        {
          "data": {
            "text/plain": "1.959963984540054"
          },
          "execution_count": 31,
          "metadata": {},
          "output_type": "execute_result"
        }
      ]
    },
    {
      "metadata": {
        "ExecuteTime": {
          "end_time": "2023-05-17T11:15:41.781591Z",
          "start_time": "2023-05-17T11:15:41.749591Z"
        },
        "trusted": false
      },
      "id": "b2bbf719",
      "cell_type": "code",
      "source": "1-(stats.norm.cdf(55,50,4)-stats.norm.cdf(45,50,4))      #SET 4 Question 3",
      "execution_count": 44,
      "outputs": [
        {
          "data": {
            "text/plain": "0.2112995473337107"
          },
          "execution_count": 44,
          "metadata": {},
          "output_type": "execute_result"
        }
      ]
    },
    {
      "metadata": {
        "ExecuteTime": {
          "end_time": "2023-05-17T11:21:30.851040Z",
          "start_time": "2023-05-17T11:21:30.827040Z"
        },
        "trusted": false
      },
      "id": "08cc6122",
      "cell_type": "code",
      "source": "1-(stats.norm.cdf(55,50,2.6)-stats.norm.cdf(45,50,2.6))",
      "execution_count": 49,
      "outputs": [
        {
          "data": {
            "text/plain": "0.054470390027477444"
          },
          "execution_count": 49,
          "metadata": {},
          "output_type": "execute_result"
        }
      ]
    },
    {
      "metadata": {
        "ExecuteTime": {
          "end_time": "2023-05-16T15:03:56.365934Z",
          "start_time": "2023-05-16T15:03:56.256867Z"
        },
        "trusted": false
      },
      "id": "e919617e",
      "cell_type": "code",
      "source": "stats.t.interval(0.95,100,4,4)",
      "execution_count": 60,
      "outputs": [
        {
          "data": {
            "text/plain": "(-3.9358860737985335, 11.935886073798534)"
          },
          "execution_count": 60,
          "metadata": {},
          "output_type": "execute_result"
        }
      ]
    }
  ],
  "metadata": {
    "kernelspec": {
      "name": "python3",
      "display_name": "Python 3 (ipykernel)",
      "language": "python"
    },
    "language_info": {
      "name": "python",
      "version": "3.9.12",
      "mimetype": "text/x-python",
      "codemirror_mode": {
        "name": "ipython",
        "version": 3
      },
      "pygments_lexer": "ipython3",
      "nbconvert_exporter": "python",
      "file_extension": ".py"
    },
    "gist": {
      "id": "",
      "data": {
        "description": "Assignment 2 - Basic Statistics 2 .ipynb",
        "public": true
      }
    }
  },
  "nbformat": 4,
  "nbformat_minor": 5
}